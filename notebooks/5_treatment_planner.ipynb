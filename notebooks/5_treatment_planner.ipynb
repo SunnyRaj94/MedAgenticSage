{
 "cells": [
  {
   "cell_type": "code",
   "execution_count": null,
   "id": "2e6a1529",
   "metadata": {},
   "outputs": [
    {
     "name": "stdout",
     "output_type": "stream",
     "text": [
      "[LLM Loader] Successfully initialized model 'llama3' from 'ollama'.\n"
     ]
    }
   ],
   "source": [
    "from configs import models, env\n",
    "from backend.llm.api import load_llm_langchain\n",
    "from backend.prompts.templates import treatment_prompt_template\n",
    "\n",
    "config_loaded = {\"model_config\": models, \"env\": env}\n",
    "llm = load_llm_langchain(source='ollama', model_name='LLaMA-3', config=config_loaded)"
   ]
  },
  {
   "cell_type": "code",
   "execution_count": 2,
   "id": "b4614893",
   "metadata": {},
   "outputs": [
    {
     "name": "stdout",
     "output_type": "stream",
     "text": [
      "🧑‍⚕️ Patient Profile\n",
      "diagnosis: Type 2 Diabetes Mellitus\n",
      "age: 68\n",
      "sex: Male\n",
      "comorbidities: ['Hypertension', 'Obesity', 'Hyperlipidemia']\n"
     ]
    }
   ],
   "source": [
    "patient_profile = {\n",
    "    \"diagnosis\": \"Type 2 Diabetes Mellitus\",\n",
    "    \"age\": 68,\n",
    "    \"sex\": \"Male\",\n",
    "    \"comorbidities\": [\"Hypertension\", \"Obesity\", \"Hyperlipidemia\"]\n",
    "}\n",
    "\n",
    "print(\"🧑‍⚕️ Patient Profile\")\n",
    "for k, v in patient_profile.items():\n",
    "    print(f\"{k}: {v}\")"
   ]
  },
  {
   "cell_type": "code",
   "execution_count": 3,
   "id": "148dbb1f",
   "metadata": {},
   "outputs": [],
   "source": [
    "prompt = treatment_prompt_template.format(\n",
    "    diagnosis=patient_profile[\"diagnosis\"],\n",
    "    age=patient_profile[\"age\"],\n",
    "    sex=patient_profile[\"sex\"],\n",
    "    comorbidities=\", \".join(patient_profile[\"comorbidities\"])\n",
    ")"
   ]
  },
  {
   "cell_type": "code",
   "execution_count": 4,
   "id": "a0c5925d",
   "metadata": {},
   "outputs": [
    {
     "name": "stdout",
     "output_type": "stream",
     "text": [
      "🩺 Personalized Treatment Plan:\n",
      "\n",
      "**Treatment Plan for Type 2 Diabetes Mellitus**\n",
      "\n",
      "**Patient Information:**\n",
      "\n",
      "* Age: 68 years\n",
      "* Sex: Male\n",
      "* Diagnosis: Type 2 Diabetes Mellitus\n",
      "* Comorbidities:\n",
      "\t+ Hypertension\n",
      "\t+ Obesity (BMI ≥30 kg/m²)\n",
      "\t+ Hyperlipidemia\n",
      "\n",
      "**Step-by-Step Treatment Plan:**\n",
      "\n",
      "**First-Line Therapy:**\n",
      "\n",
      "1. **Metformin**: Start with a dose of 500 mg twice daily, titrate up to 1000 mg twice daily as needed.\n",
      "2. **Lifestyle Modifications:**\n",
      "\t* Encourage a healthy diet with emphasis on whole grains, fruits, and vegetables.\n",
      "\t* Recommend regular physical activity (at least 150 minutes/week) and weight loss if BMI ≥30 kg/m².\n",
      "3. **Blood Pressure Management:**\n",
      "\t+ Monitor blood pressure regularly.\n",
      "\t+ Start or adjust antihypertensive medications as needed to achieve a target BP <130/80 mmHg.\n",
      "\n",
      "**Second-Line Therapy (if first-line therapy is not effective):**\n",
      "\n",
      "1. **Sulfonylureas**: Add a sulfonylurea, such as gliclazide (starting dose 40 mg once daily), if metformin monotherapy is not sufficient.\n",
      "2. **Thiazolidinediones**: Consider adding pioglitazone (starting dose 15 mg once daily) if sulfonylureas are not effective.\n",
      "\n",
      "**Additional Medications:**\n",
      "\n",
      "1. **Statins**: Start or adjust statins, such as atorvastatin (10-20 mg once daily), to achieve a LDL-C target <70 mg/dL.\n",
      "2. **Beta Blockers**: Consider adding a beta blocker, such as metoprolol (25-50 mg twice daily), for hypertension management.\n",
      "\n",
      "**Follow-up and Referrals:**\n",
      "\n",
      "1. **Regular Follow-ups:** Schedule follow-up appointments every 3-6 months to monitor blood glucose control, blood pressure, and lipid profiles.\n",
      "2. **Dietitian Consultation:** Refer the patient to a registered dietitian or nutritionist for personalized dietary advice.\n",
      "3. **Cardiologist Referral:** Consider referring the patient to a cardiologist if there are concerns about cardiovascular risk.\n",
      "\n",
      "**Monitoring:**\n",
      "\n",
      "1. **Blood Glucose Monitoring:** Encourage the patient to monitor blood glucose levels at home, aiming for a target HbA1c <7%.\n",
      "2. **Lipid Profiles:** Monitor lipid profiles every 6-12 months to adjust statin therapy as needed.\n",
      "3. **Urinalysis:** Perform urinalysis annually to monitor for microalbuminuria or proteinuria.\n",
      "\n",
      "**Patient Education:**\n",
      "\n",
      "1. **Diabetes Self-Management:** Educate the patient on diabetes self-management, including blood glucose monitoring and insulin administration (if necessary).\n",
      "2. **Healthy Lifestyle Habits:** Emphasize the importance of a healthy lifestyle, including regular physical activity, a balanced diet, and stress management.\n",
      "\n",
      "**Clinical Decision Support:**\n",
      "\n",
      "1. **NICE Guidelines:** Refer to NICE guidelines for type 2 diabetes mellitus treatment and management.\n",
      "2. **NIH Guidelines:** Consult NIH guidelines for type 2 diabetes mellitus diagnosis and treatment.\n",
      "3. **Evidence-Based Medicine:** Stay up-to-date with the latest evidence-based medicine recommendations for type 2 diabetes mellitus management.\n",
      "\n",
      "**Conclusion:**\n",
      "\n",
      "This step-by-step treatment plan addresses the patient's comorbidities, including hypertension, obesity, and hyperlipidemia, while providing a comprehensive approach to managing their type 2 diabetes mellitus. Regular follow-ups, referrals, and monitoring will help ensure optimal control of blood glucose levels, blood pressure, and lipid profiles.\n"
     ]
    }
   ],
   "source": [
    "response = llm.invoke(prompt)\n",
    "\n",
    "print(\"🩺 Personalized Treatment Plan:\\n\")\n",
    "print(response.content)"
   ]
  }
 ],
 "metadata": {
  "kernelspec": {
   "display_name": "rag_app",
   "language": "python",
   "name": "python3"
  },
  "language_info": {
   "codemirror_mode": {
    "name": "ipython",
    "version": 3
   },
   "file_extension": ".py",
   "mimetype": "text/x-python",
   "name": "python",
   "nbconvert_exporter": "python",
   "pygments_lexer": "ipython3",
   "version": "3.13.2"
  }
 },
 "nbformat": 4,
 "nbformat_minor": 5
}
