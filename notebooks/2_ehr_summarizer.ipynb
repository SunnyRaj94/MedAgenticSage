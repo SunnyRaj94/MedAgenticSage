{
 "cells": [
  {
   "cell_type": "code",
   "execution_count": null,
   "id": "93e0a813",
   "metadata": {},
   "outputs": [
    {
     "name": "stdout",
     "output_type": "stream",
     "text": [
      "[LLM Loader] Successfully initialized model 'llama-3.1-8b-instant' from 'groq'.\n"
     ]
    }
   ],
   "source": [
    "from configs import models, env\n",
    "from backend.llm.api import load_model, load_llm_langchain\n",
    "from backend.prompts.templates import ehr_summarizer_prompt_template\n",
    "\n",
    "config_loaded = {\"model_config\": models, \"env\": env}\n",
    "llm = load_llm_langchain(source='groq', model_name='LLaMA-3', config=config_loaded)"
   ]
  },
  {
   "cell_type": "code",
   "execution_count": 2,
   "id": "87f1f170",
   "metadata": {},
   "outputs": [
    {
     "name": "stdout",
     "output_type": "stream",
     "text": [
      "📋 Prompt preview:\n",
      " \n",
      "You are a clinical summarization agent.\n",
      "\n",
      "Given the following raw clinical note or discharge summary:\n",
      "\n",
      "---\n",
      "\n",
      "The patient is a 68-year-old male with a history of hypertension, hyperlipidemia, and type 2 diabetes mellitus, admitted for chest pain.\n",
      "ECG showed ST elevation; troponin elevated. Diagnosed with STEMI. Underwent PCI with stent placement.\n",
      "Started on aspirin, atorvastatin, metoprolol, and lisinopril. Discharged in stable condition with follow-up in 1 week.\n",
      "\n",
      "---\n",
      "\n",
      "Extract and return the following:\n",
      "- Primary diagnosis\n",
      "- Key findings (labs, vitals, procedures)\n",
      "- Medications prescribed\n",
      "- Follow-up recommendations\n",
      "- Summary (in layman's terms)\n",
      "\n",
      "Be clear and structured in your output.\n",
      "\n"
     ]
    }
   ],
   "source": [
    "sample_ehr = \"\"\"\n",
    "The patient is a 68-year-old male with a history of hypertension, hyperlipidemia, and type 2 diabetes mellitus, admitted for chest pain.\n",
    "ECG showed ST elevation; troponin elevated. Diagnosed with STEMI. Underwent PCI with stent placement.\n",
    "Started on aspirin, atorvastatin, metoprolol, and lisinopril. Discharged in stable condition with follow-up in 1 week.\n",
    "\"\"\"\n",
    "\n",
    "prompt = ehr_summarizer_prompt_template.format(ehr_text=sample_ehr)\n",
    "print(\"📋 Prompt preview:\\n\", prompt)"
   ]
  },
  {
   "cell_type": "code",
   "execution_count": 3,
   "id": "611590d2",
   "metadata": {},
   "outputs": [
    {
     "name": "stdout",
     "output_type": "stream",
     "text": [
      "📄 EHR Summary:\n",
      "\n",
      "**Clinical Summary**\n",
      "\n",
      "### Patient Information\n",
      "\n",
      "- **Age:** 68 years old\n",
      "- **Gender:** Male\n",
      "\n",
      "### Primary Diagnosis\n",
      "\n",
      "- **STEMI (ST-Elevation Myocardial Infarction)**\n",
      "\n",
      "### Key Findings\n",
      "\n",
      "- **ECG:** ST elevation\n",
      "- **Lab Results:** Elevated troponin\n",
      "- **Procedures:** PCI (Percutaneous Coronary Intervention) with stent placement\n",
      "\n",
      "### Medications Prescribed\n",
      "\n",
      "- **Antiplatelet:** Aspirin\n",
      "- **Statins:** Atorvastatin\n",
      "- **Beta Blocker:** Metoprolol\n",
      "- **ACE Inhibitor:** Lisinopril\n",
      "\n",
      "### Follow-up Recommendations\n",
      "\n",
      "- **Follow-up appointment:** In 1 week\n",
      "\n",
      "### Summary (in layman's terms)\n",
      "\n",
      "The patient had a heart attack (STEMI) and underwent a procedure to open up the blocked artery (PCI with stent placement). He was prescribed medications to prevent future heart problems and was discharged in stable condition. He needs to follow up with his doctor in 1 week.\n"
     ]
    }
   ],
   "source": [
    "response = llm.invoke(prompt)\n",
    "\n",
    "print(\"📄 EHR Summary:\\n\")\n",
    "print(response.content)\n"
   ]
  },
  {
   "cell_type": "code",
   "execution_count": 5,
   "id": "baf65aa2",
   "metadata": {},
   "outputs": [
    {
     "name": "stdout",
     "output_type": "stream",
     "text": [
      "Diagnosis: ❓ Not found\n",
      "Medications: ❓ Not found\n",
      "Follow_Up: ❓ Not found\n"
     ]
    }
   ],
   "source": [
    "import re\n",
    "\n",
    "summary = {\n",
    "    \"diagnosis\": re.search(r\"Primary diagnosis:\\s*(.+)\", response.content, re.IGNORECASE),\n",
    "    \"medications\": re.search(r\"Medications prescribed:\\s*(.+)\", response.content, re.IGNORECASE),\n",
    "    \"follow_up\": re.search(r\"Follow-up recommendations:\\s*(.+)\", response.content, re.IGNORECASE),\n",
    "}\n",
    "\n",
    "for key, match in summary.items():\n",
    "    print(f\"{key.title()}: {match.group(1).strip() if match else '❓ Not found'}\")"
   ]
  }
 ],
 "metadata": {
  "kernelspec": {
   "display_name": "rag_app",
   "language": "python",
   "name": "python3"
  },
  "language_info": {
   "codemirror_mode": {
    "name": "ipython",
    "version": 3
   },
   "file_extension": ".py",
   "mimetype": "text/x-python",
   "name": "python",
   "nbconvert_exporter": "python",
   "pygments_lexer": "ipython3",
   "version": "3.13.2"
  }
 },
 "nbformat": 4,
 "nbformat_minor": 5
}
