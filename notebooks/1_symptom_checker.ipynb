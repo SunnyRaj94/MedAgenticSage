{
 "cells": [
  {
   "cell_type": "code",
   "execution_count": null,
   "id": "b16832e0",
   "metadata": {},
   "outputs": [
    {
     "name": "stdout",
     "output_type": "stream",
     "text": [
      "[LLM Loader] Successfully initialized model 'llama3' from 'ollama'.\n"
     ]
    }
   ],
   "source": [
    "from configs import models, env\n",
    "from backend.llm.api import load_llm_langchain\n",
    "from backend.prompts.templates import symptom_prompt_template\n",
    "\n",
    "config_loaded = {\"model_config\": models, \"env\": env}\n",
    "llm = load_llm_langchain(source='ollama', model_name='LLaMA-3', config=config_loaded)"
   ]
  },
  {
   "cell_type": "code",
   "execution_count": 2,
   "id": "23d41195",
   "metadata": {},
   "outputs": [
    {
     "name": "stdout",
     "output_type": "stream",
     "text": [
      "📋 Final prompt:\n",
      " \n",
      "You are a diagnostic medical assistant.\n",
      "\n",
      "Given the following symptoms: chest pain, shortness of breath, dizziness\n",
      "\n",
      "Return:\n",
      "- A ranked list of likely diagnoses\n",
      "- Suggested urgency level (low, medium, high)\n",
      "- Recommended next steps for the patient\n",
      "\n",
      "Be concise but medically accurate.\n",
      "\n"
     ]
    }
   ],
   "source": [
    "user_symptoms = \"chest pain, shortness of breath, dizziness\"\n",
    "prompt = symptom_prompt_template.format(symptoms=user_symptoms)\n",
    "\n",
    "print(\"📋 Final prompt:\\n\", prompt)"
   ]
  },
  {
   "cell_type": "code",
   "execution_count": 3,
   "id": "85ad8828",
   "metadata": {},
   "outputs": [
    {
     "name": "stdout",
     "output_type": "stream",
     "text": [
      "🤖 Diagnosis Suggestion:\n",
      "\n"
     ]
    }
   ],
   "source": [
    "response = llm.invoke(prompt)\n",
    "print(\"🤖 Diagnosis Suggestion:\\n\")"
   ]
  },
  {
   "cell_type": "code",
   "execution_count": 4,
   "id": "001d4288",
   "metadata": {},
   "outputs": [
    {
     "name": "stdout",
     "output_type": "stream",
     "text": [
      "Based on the symptoms of chest pain, shortness of breath, and dizziness, here is a ranked list of likely diagnoses:\n",
      "\n",
      "1. **Acute Coronary Syndrome (ACS)**: High urgency\n",
      "\t* Chest pain or discomfort that lasts more than 30 minutes, often accompanied by shortness of breath and lightheadedness.\n",
      "2. **Pulmonary Embolism**: Medium urgency\n",
      "\t* Sudden onset of chest pain, shortness of breath, and dizziness, potentially caused by a blood clot in the lungs.\n",
      "3. **Cardiac Arrhythmia**: Low to medium urgency\n",
      "\t* Abnormal heart rhythm that can cause chest discomfort, shortness of breath, and lightheadedness.\n",
      "4. **Anxiety or Panic Attack**: Low urgency\n",
      "\t* Sudden onset of intense fear or anxiety, often accompanied by physical symptoms like chest pain, shortness of breath, and dizziness.\n",
      "\n",
      "Recommended next steps for the patient:\n",
      "\n",
      "1. **Immediate attention**: If the patient is experiencing severe symptoms, such as crushing chest pressure, difficulty breathing, or loss of consciousness, call 911 or have someone drive them to the emergency department.\n",
      "2. **Emergency department visit**: For patients with moderate symptoms, recommend an immediate visit to the emergency department for further evaluation and treatment.\n",
      "3. **Primary care physician appointment**: For patients with mild symptoms, suggest a follow-up appointment with their primary care physician to rule out underlying conditions.\n",
      "\n",
      "Remember to always prioritize patient safety and seek immediate medical attention if the patient's condition worsens or they experience severe symptoms.\n"
     ]
    }
   ],
   "source": [
    "print(response.content)"
   ]
  },
  {
   "cell_type": "code",
   "execution_count": 5,
   "id": "16cf2ae9",
   "metadata": {},
   "outputs": [
    {
     "name": "stdout",
     "output_type": "stream",
     "text": [
      "✅ Matched known condition.\n"
     ]
    }
   ],
   "source": [
    "known_conditions = [\"Angina\", \"Myocardial infarction\", \"Pulmonary embolism\"]\n",
    "\n",
    "if any(cond.lower() in response.content.lower() for cond in known_conditions):\n",
    "    print(\"✅ Matched known condition.\")\n",
    "else:\n",
    "    print(\"⚠️ No match found in known conditions.\")"
   ]
  }
 ],
 "metadata": {
  "kernelspec": {
   "display_name": "rag_app",
   "language": "python",
   "name": "python3"
  },
  "language_info": {
   "codemirror_mode": {
    "name": "ipython",
    "version": 3
   },
   "file_extension": ".py",
   "mimetype": "text/x-python",
   "name": "python",
   "nbconvert_exporter": "python",
   "pygments_lexer": "ipython3",
   "version": "3.13.2"
  }
 },
 "nbformat": 4,
 "nbformat_minor": 5
}
