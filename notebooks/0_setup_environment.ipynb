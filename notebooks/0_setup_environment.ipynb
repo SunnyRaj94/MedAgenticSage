{
 "cells": [
  {
   "cell_type": "markdown",
   "id": "7c154dd9",
   "metadata": {},
   "source": [
    "### Testing - loading Llms"
   ]
  },
  {
   "cell_type": "code",
   "execution_count": 1,
   "id": "14bc0a2a",
   "metadata": {},
   "outputs": [],
   "source": [
    "from configs import models, env, settings, print_directory_structure\n",
    "from backend.llm.api import load_model, get_llm, load_llm_langchain"
   ]
  },
  {
   "cell_type": "code",
   "execution_count": 2,
   "id": "76795dc6",
   "metadata": {},
   "outputs": [
    {
     "name": "stdout",
     "output_type": "stream",
     "text": [
      "/\n",
      "|   loaders/\n",
      "|   - __init__.py\n",
      "|   - api.py\n",
      "|   |   - __init__.py\n",
      "|   |   - anthropic_loader.py\n",
      "|   |   - groq_loader.py\n",
      "|   |   - huggingface_loader.py\n",
      "|   |   - ollama_loader.py\n",
      "|   |   - openai_loader.py\n",
      "|   |   - together_loader.py\n"
     ]
    }
   ],
   "source": [
    "startpath = \"/Users/sunnyraj/code_files/git_repos/MedAgenticSage/backend/llm/\"\n",
    "print_directory_structure(startpath, indent_char=\"|   \", file_prefix=\"- \", include_extensions = ['.py'])"
   ]
  },
  {
   "cell_type": "code",
   "execution_count": 2,
   "id": "f3ba4369",
   "metadata": {},
   "outputs": [
    {
     "data": {
      "text/plain": [
       "{'LLaMA-3': {'available_locally': True,\n",
       "  'downloaded': False,\n",
       "  'model_identifier': 'llama3',\n",
       "  'local_path': '/Users/sunnyraj/code_files/git_repos/MedAgenticSage/models//ollama/llama3/'},\n",
       " 'Mistral': {'available_locally': True,\n",
       "  'downloaded': False,\n",
       "  'model_identifier': 'mistral',\n",
       "  'local_path': '/Users/sunnyraj/code_files/git_repos/MedAgenticSage/models//ollama/Mistral/'},\n",
       " 'Gemma': {'available_locally': True,\n",
       "  'downloaded': False,\n",
       "  'model_identifier': 'gemma',\n",
       "  'local_path': '/Users/sunnyraj/code_files/git_repos/MedAgenticSage/models//ollama/Gemma/'}}"
      ]
     },
     "execution_count": 2,
     "metadata": {},
     "output_type": "execute_result"
    }
   ],
   "source": [
    "models['ollama']"
   ]
  },
  {
   "cell_type": "code",
   "execution_count": 2,
   "id": "0af89881",
   "metadata": {},
   "outputs": [
    {
     "name": "stdout",
     "output_type": "stream",
     "text": [
      "[Ollama Loader] Ready to use model: LLaMA-3\n"
     ]
    }
   ],
   "source": [
    "config_loaded = {\"model_config\":models,\"env\":env}\n",
    "llm = load_model(source=\"ollama\", model_name=\"LLaMA-3\",extra_config=config_loaded)\n",
    "\n",
    "\n",
    "# config_loaded = {\"model_config\":models,\"env\":env}\n",
    "# llm = load_model(source=\"groq\", model_name=\"LLaMA-3\",extra_config=config_loaded)"
   ]
  },
  {
   "cell_type": "code",
   "execution_count": 4,
   "id": "cba1e03b",
   "metadata": {},
   "outputs": [],
   "source": [
    "config_loaded = {\"model_config\":models,\"env\":env}\n",
    "llm = get_llm(source=\"ollama\", model_name=\"LLaMA-3\",extra_config=config_loaded)\n",
    "# llm(\"what do you know about diabities\")"
   ]
  },
  {
   "cell_type": "code",
   "execution_count": 4,
   "id": "fea2e6fa",
   "metadata": {},
   "outputs": [
    {
     "name": "stdout",
     "output_type": "stream",
     "text": [
      "Diabetes is a group of metabolic disorders characterized by high blood sugar levels. Here's an overview of what I know about diabetes:\n",
      "\n",
      "**What is Diabetes?**\n",
      "\n",
      "Diabetes is a condition where the body either cannot produce enough insulin (a hormone that regulates blood sugar levels) or does not effectively use the insulin it produces. Insulin helps glucose (sugar) enter cells, which are then used for energy, growth, and repair.\n",
      "\n",
      "**Types of Diabetes:**\n",
      "\n",
      "1. **Type 1 Diabetes:** An autoimmune disease where the body's immune system mistakenly attacks and destroys the insulin-producing beta cells in the pancreas, resulting in a complete lack of insulin production.\n",
      "2. **Type 2 Diabetes:** The most common form of diabetes, characterized by insulin resistance (when cells become resistant to insulin) and impaired insulin secretion.\n",
      "3. **Gestational Diabetes:** develops during pregnancy due to hormonal changes and insulin resistance.\n",
      "4. **LADA (Latent Autoimmune Diabetes in Adults):** A type of diabetes that combines features of Type 1 and Type 2 diabetes.\n",
      "\n",
      "**Causes and Risk Factors:**\n",
      "\n",
      "* Genetics: Family history, ethnicity, and genetic predisposition play a role in developing diabetes.\n",
      "* Obesity: Being overweight or obese increases the risk of developing insulin resistance and Type 2 diabetes.\n",
      "* Physical Inactivity: A sedentary lifestyle can contribute to insulin resistance and obesity.\n",
      "* Age: The risk of developing diabetes increases with age.\n",
      "* Ethnicity: Certain ethnic groups, such as African Americans, Hispanics/Latinos, and American Indians, are at a higher risk for developing diabetes.\n",
      "* History of gestational diabetes or delivering a baby over 9 lbs (4.1 kg)\n",
      "* High blood pressure\n",
      "* High cholesterol\n",
      "* Family history of cardiovascular disease\n",
      "\n",
      "**Symptoms:**\n",
      "\n",
      "* Increased thirst and hunger\n",
      "* Frequent urination\n",
      "* Fatigue\n",
      "* Blurred vision\n",
      "* Cuts or wounds that are slow to heal\n",
      "* Tingling or numbness in the hands and feet\n",
      "\n",
      "**Complications:**\n",
      "\n",
      "* Heart disease\n",
      "* Stroke\n",
      "* Kidney damage (nephropathy)\n",
      "* Nerve damage (neuropathy)\n",
      "* Eye damage (retinopathy)\n",
      "* Foot ulcers and amputation\n",
      "* Increased risk of infections\n",
      "\n",
      "**Management and Treatment:**\n",
      "\n",
      "* Lifestyle changes:\n",
      "\t+ Diet modifications, such as the Mediterranean diet or a low-carb diet\n",
      "\t+ Regular exercise, including aerobic exercises and strength training\n",
      "\t+ Weight loss for those who are overweight or obese\n",
      "* Medications:\n",
      "\t+ Insulin injections (for Type 1 diabetes) or oral medications (for Type 2 diabetes)\n",
      "\t+ Metformin, sulfonylureas, and other oral antidiabetic drugs\n",
      "\t+ Pramlintide and other injectable medications for improving insulin sensitivity\n",
      "* Monitoring blood sugar levels with a glucometer and tracking patterns\n",
      "\n",
      "**Prevention:**\n",
      "\n",
      "* Maintain a healthy weight through diet and exercise.\n",
      "* Engage in regular physical activity.\n",
      "* Limit consumption of sugary drinks and foods high in added sugars, salt, and unhealthy fats.\n",
      "* Monitor your blood pressure and cholesterol levels.\n",
      "\n",
      "Please note that this is not an exhaustive list, and I'm happy to provide more information or answer specific questions!\n"
     ]
    }
   ],
   "source": [
    "print(llm.invoke(\"what do you know about diabities\"))"
   ]
  },
  {
   "cell_type": "markdown",
   "id": "96273b58",
   "metadata": {},
   "source": [
    "### --"
   ]
  }
 ],
 "metadata": {
  "kernelspec": {
   "display_name": "rag_app",
   "language": "python",
   "name": "python3"
  },
  "language_info": {
   "codemirror_mode": {
    "name": "ipython",
    "version": 3
   },
   "file_extension": ".py",
   "mimetype": "text/x-python",
   "name": "python",
   "nbconvert_exporter": "python",
   "pygments_lexer": "ipython3",
   "version": "3.13.2"
  }
 },
 "nbformat": 4,
 "nbformat_minor": 5
}
