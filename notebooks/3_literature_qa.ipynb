{
 "cells": [
  {
   "cell_type": "code",
   "execution_count": 1,
   "id": "3c4f70be",
   "metadata": {},
   "outputs": [
    {
     "name": "stdout",
     "output_type": "stream",
     "text": [
      "[LLM Loader] Successfully initialized model 'llama3' from 'ollama'.\n"
     ]
    }
   ],
   "source": [
    "from configs import models, env, settings\n",
    "from backend.llm.api import load_model, load_llm_langchain\n",
    "from backend.prompts.templates import literature_qa_template\n",
    "\n",
    "config_loaded = {\"model_config\": models, \"env\": env}\n",
    "llm = load_llm_langchain(source='ollama', model_name='LLaMA-3', config=config_loaded)"
   ]
  },
  {
   "cell_type": "code",
   "execution_count": 2,
   "id": "ee632009",
   "metadata": {},
   "outputs": [],
   "source": [
    "# PubMed search using Entrez (Biopython)\n",
    "from Bio import Entrez\n",
    "Entrez.email = env.get(\"email\", \"your@email.com\") \n",
    "\n",
    "def search_pubmed(query, max_results=3):\n",
    "    handle = Entrez.esearch(db=\"pubmed\", term=query, retmax=max_results)\n",
    "    record = Entrez.read(handle)\n",
    "    id_list = record[\"IdList\"]\n",
    "\n",
    "    summaries = []\n",
    "    for pubmed_id in id_list:\n",
    "        fetch_handle = Entrez.efetch(db=\"pubmed\", id=pubmed_id, retmode=\"xml\")\n",
    "        articles = Entrez.read(fetch_handle)\n",
    "        article = articles['PubmedArticle'][0]\n",
    "        title = article['MedlineCitation']['Article']['ArticleTitle']\n",
    "        abstract = article['MedlineCitation']['Article']['Abstract']['AbstractText'][0]\n",
    "        summaries.append(f\"Title: {title}\\nAbstract: {abstract}\\n\")\n",
    "    return summaries\n"
   ]
  },
  {
   "cell_type": "code",
   "execution_count": null,
   "id": "9b8c57f5",
   "metadata": {},
   "outputs": [
    {
     "name": "stdout",
     "output_type": "stream",
     "text": [
      "🔹 Document 1:\n",
      "Title: Long-term risk of cardiovascular mortality according to age group and blood pressure categories of the latest guideline.\n",
      "Abstract: This study examined the association between the latest blood pressure (BP) classification and cardiovascular disease (CVD) mortality risk, using data from 70,570 individuals across 10 Japanese cohorts. Participants were stratified by age (40-64 and 65-89 years) and antihypertensive treatment use. BP was classified according to the 2019 Japanese Society of Hypertension Guidelines. During a follow-up period of approximately 10 years, 2304 CVD deaths occurred. Cox models demonstrated that CVD mortality risk increased stepwise with the BP category, with this association being especially pronounced in patients aged 40-64 years, where the Grade I hypertension group showed the highest population-attributable fraction (PAF). When the treated participants were included in the hypertension group, the overall PAF for CVD mortality was 41.1%. Similar patterns were observed for CVD subtype mortality risk, with hypertension showing particularly high PAFs for intracerebral hemorrhage. These findings highlight the importance of early-stage prevention and management of hypertension.\n",
      "\n",
      "\n",
      "🔹 Document 2:\n",
      "Title: Cardiovascular events according to blood pressure thresholds recommended by ACC/AHA.\n",
      "Abstract: The latest guidelines from ACC/AHA define hypertension at systolic blood pressure (SBP) 130-139 mmHg or diastolic blood pressure (DBP) 80-89 mmHg in contrast to guidelines from ESC/ESH defining hypertension at SBP ≥ 140 mmHg or DBP ≥ 90 mmHg. The aim was to determine whether the ACC/AHA definition of hypertension identifies persons at elevated risk for future cardiovascular outcome.\n",
      "\n",
      "\n",
      "🔹 Document 3:\n",
      "Title: Guidelines-based therapeutic strategies for controlling hypertension in non-controlled hypertensive patients followed by family physicians in primary health care in Portugal: the GPHT-PT study.\n",
      "Abstract: In a prospective open study, with intervention, conducted in Primary Health Care Units by General Practitioners (GPs) in Portugal, the effectiveness of a single pill of candesartan/amlodipine (ARB/amlodipine), as the only anti-hypertension (anti-HTN) medication, in adult patients with uncontrolled HTN (BP > 140/or > 90 mm Hg), either previously being treated with anti-HTN monotherapies (Group I), or combinations with hydrochlorothiazide (HCTZ) (Group II), or not receiving medication at all (Group III), was evaluated across 12-weeks after implementation of the new therapeutic measure.\n",
      "\n",
      "\n"
     ]
    }
   ],
   "source": [
    "question = \"What are the latest treatment guidelines for hypertension in elderly patients?\"\n",
    "search_results = search_pubmed(question)\n",
    "\n",
    "for i, doc in enumerate(search_results):\n",
    "    print(f\"🔹 Document {i+1}:\\n{doc}\\n\")\n"
   ]
  },
  {
   "cell_type": "code",
   "execution_count": 4,
   "id": "1e104635",
   "metadata": {},
   "outputs": [],
   "source": [
    "combined_context = \"\\n\".join(search_results)\n",
    "final_prompt = literature_qa_template.format(context=combined_context, question=question)"
   ]
  },
  {
   "cell_type": "code",
   "execution_count": null,
   "id": "e6db4d4d",
   "metadata": {},
   "outputs": [
    {
     "name": "stdout",
     "output_type": "stream",
     "text": [
      "📘 Answer:\n",
      "\n",
      "Based on the provided research summaries, I can provide an answer to your question:\n",
      "\n",
      "The latest treatment guidelines for hypertension in elderly patients are not explicitly stated in the provided abstracts. However, we can infer some information from the studies.\n",
      "\n",
      "One study (Title: Long-term risk of cardiovascular mortality according to age group and blood pressure categories of the latest guideline) found that the Grade I hypertension group showed the highest population-attributable fraction (PAF) for CVD mortality in patients aged 40-64 years. This suggests that early-stage prevention and management of hypertension are important, especially in younger elderly patients.\n",
      "\n",
      "Another study (Title: Cardiovascular events according to blood pressure thresholds recommended by ACC/AHA) compared different definitions of hypertension and found that the ACC/AHA definition identifies persons at elevated risk for future cardiovascular outcome. However, this study did not specifically focus on elderly patients.\n",
      "\n",
      "The third study (Title: Guidelines-based therapeutic strategies for controlling hypertension in non-controlled hypertensive patients followed by family physicians in primary health care in Portugal) evaluated a single pill of candesartan/amlodipine as the only anti-hypertension medication in adult patients with uncontrolled HTN. While this study did not specifically focus on elderly patients, it suggests that combination therapy may be effective in controlling hypertension.\n",
      "\n",
      "In conclusion, while there is no specific guidance for treating hypertension in elderly patients from these studies, they suggest that early-stage prevention and management of hypertension are important, especially in younger elderly patients. Combination therapy may also be effective in controlling hypertension.\n",
      "\n",
      "References:\n",
      "\n",
      "1. Long-term risk of cardiovascular mortality according to age group and blood pressure categories of the latest guideline.\n",
      "2. Cardiovascular events according to blood pressure thresholds recommended by ACC/AHA.\n",
      "3. Guidelines-based therapeutic strategies for controlling hypertension in non-controlled hypertensive patients followed by family physicians in primary health care in Portugal: the GPHT-PT study.\n",
      "\n",
      "Note: These studies do not provide specific guidance on treating hypertension in elderly patients, but rather provide general information on the importance of early-stage prevention and management of hypertension and the effectiveness of combination therapy.\n"
     ]
    }
   ],
   "source": [
    "response = llm.invoke(final_prompt)\n",
    "\n",
    "print(\"📘 Answer:\\n\")\n",
    "print(response.content)"
   ]
  }
 ],
 "metadata": {
  "kernelspec": {
   "display_name": "rag_app",
   "language": "python",
   "name": "python3"
  },
  "language_info": {
   "codemirror_mode": {
    "name": "ipython",
    "version": 3
   },
   "file_extension": ".py",
   "mimetype": "text/x-python",
   "name": "python",
   "nbconvert_exporter": "python",
   "pygments_lexer": "ipython3",
   "version": "3.13.2"
  }
 },
 "nbformat": 4,
 "nbformat_minor": 5
}
