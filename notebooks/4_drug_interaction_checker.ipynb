{
 "cells": [
  {
   "cell_type": "code",
   "execution_count": null,
   "id": "2288a9f3",
   "metadata": {},
   "outputs": [
    {
     "name": "stdout",
     "output_type": "stream",
     "text": [
      "[LLM Loader] Successfully initialized model 'llama3' from 'ollama'.\n"
     ]
    }
   ],
   "source": [
    "from configs import models, env\n",
    "from backend.llm.api import load_llm_langchain\n",
    "from backend.prompts.templates import drug_interaction_prompt_template\n",
    "\n",
    "config_loaded = {\"model_config\": models, \"env\": env}\n",
    "llm = load_llm_langchain(source='ollama', model_name='LLaMA-3', config=config_loaded)"
   ]
  },
  {
   "cell_type": "code",
   "execution_count": 2,
   "id": "46831ef6",
   "metadata": {},
   "outputs": [],
   "source": [
    "def check_drug_interactions(drugs):\n",
    "    # Normally this would hit DrugBank/OpenFDA\n",
    "    risky_pairs = [\n",
    "        (\"aspirin\", \"warfarin\"),\n",
    "        (\"lisinopril\", \"potassium\"),\n",
    "        (\"atorvastatin\", \"clarithromycin\"),\n",
    "    ]\n",
    "    interactions = []\n",
    "    for i in range(len(drugs)):\n",
    "        for j in range(i + 1, len(drugs)):\n",
    "            pair = (drugs[i].lower(), drugs[j].lower())\n",
    "            if pair in risky_pairs or pair[::-1] in risky_pairs:\n",
    "                interactions.append(f\"⚠️ {drugs[i]} + {drugs[j]}: Known severe interaction.\")\n",
    "    return interactions or [\"✅ No known severe interactions found.\"]\n"
   ]
  },
  {
   "cell_type": "code",
   "execution_count": 3,
   "id": "4fa260dd",
   "metadata": {},
   "outputs": [
    {
     "name": "stdout",
     "output_type": "stream",
     "text": [
      "⚠️ Aspirin + Warfarin: Known severe interaction.\n"
     ]
    }
   ],
   "source": [
    "medications = [\"Aspirin\", \"Warfarin\", \"Metformin\"]\n",
    "interactions = check_drug_interactions(medications)\n",
    "\n",
    "for msg in interactions:\n",
    "    print(msg)"
   ]
  },
  {
   "cell_type": "code",
   "execution_count": 4,
   "id": "b820f00d",
   "metadata": {},
   "outputs": [],
   "source": [
    "prompt = drug_interaction_prompt_template.format(\n",
    "    drugs=\", \".join(medications),\n",
    "    interactions=\"\\n\".join(interactions)\n",
    ")"
   ]
  },
  {
   "cell_type": "code",
   "execution_count": 5,
   "id": "faea42a7",
   "metadata": {},
   "outputs": [
    {
     "name": "stdout",
     "output_type": "stream",
     "text": [
      "📋 Safety Summary:\n",
      "\n",
      "**Safety Summary**\n",
      "\n",
      "Combining Aspirin and Warfarin increases the risk of bleeding complications due to a synergistic effect on platelet function. This interaction can lead to severe hemorrhages, particularly in patients with pre-existing coagulopathy or those taking other anticoagulant medications.\n",
      "\n",
      "**Suggested Monitoring Actions**\n",
      "\n",
      "1. **Closely monitor INR (International Normalized Ratio)**: Regularly check INR levels every 2-3 days and adjust Warfarin dosage as needed to maintain a therapeutic range.\n",
      "2. **Monitor platelet count**: Periodically check platelet counts to detect any potential thrombocytopenia.\n",
      "3. **Assess bleeding risk**: Evaluate patients' bleeding risk factors, such as history of gastrointestinal bleeding or other coagulopathy-related issues.\n",
      "\n",
      "**Warnings and Clinical Advice**\n",
      "\n",
      "1. **Contraindicate combination in high-risk patients**: Avoid combining Aspirin and Warfarin in patients with a history of bleeding complications, gastrointestinal ulcers, or those taking other anticoagulant medications.\n",
      "2. **Dose adjustments**: Consider reducing the dose of one or both medications to minimize the risk of bleeding complications.\n",
      "3. **Patient education**: Educate patients on the increased risk of bleeding and advise them to report any unusual bleeding or bruising promptly.\n",
      "4. **Regular follow-up**: Schedule regular follow-up appointments with patients taking this combination therapy to monitor for signs of bleeding or other adverse effects.\n",
      "\n",
      "**Additional Considerations**\n",
      "\n",
      "* In patients with a history of gastrointestinal bleeding, consider alternative antiplatelet agents (e.g., clopidogrel) instead of Aspirin.\n",
      "* If the patient requires both medications, closely monitor INR and platelet count, and adjust dosages as needed to minimize the risk of bleeding complications.\n",
      "\n",
      "By following these guidelines, healthcare providers can help mitigate the risks associated with combining Aspirin and Warfarin, ensuring safer treatment for patients.\n"
     ]
    }
   ],
   "source": [
    "response = llm.invoke(prompt)\n",
    "\n",
    "print(\"📋 Safety Summary:\\n\")\n",
    "print(response.content)"
   ]
  }
 ],
 "metadata": {
  "kernelspec": {
   "display_name": "rag_app",
   "language": "python",
   "name": "python3"
  },
  "language_info": {
   "codemirror_mode": {
    "name": "ipython",
    "version": 3
   },
   "file_extension": ".py",
   "mimetype": "text/x-python",
   "name": "python",
   "nbconvert_exporter": "python",
   "pygments_lexer": "ipython3",
   "version": "3.13.2"
  }
 },
 "nbformat": 4,
 "nbformat_minor": 5
}
